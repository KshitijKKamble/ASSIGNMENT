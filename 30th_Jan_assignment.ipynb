{
 "cells": [
  {
   "cell_type": "code",
   "execution_count": 14,
   "id": "130a21ed-18a8-402f-a134-81dd877d4f0c",
   "metadata": {},
   "outputs": [
    {
     "name": "stdin",
     "output_type": "stream",
     "text": [
      "Enter your percentage 45\n"
     ]
    },
    {
     "name": "stdout",
     "output_type": "stream",
     "text": [
      "Grade = D\n"
     ]
    }
   ],
   "source": [
    "\"Q1\"\n",
    "percentage = float(input(\"Enter your percentage\"))\n",
    "if percentage >= 90:\n",
    "    print(\"Grade = A\")\n",
    "elif 80 <=  percentage <= 90:\n",
    "    print(\"Grade = B\")\n",
    "elif 60 <= percentage <=80:\n",
    "    print(\"Grade = C\")\n",
    "elif percentage <= 60:\n",
    "    print(\"Grade = D\")"
   ]
  },
  {
   "cell_type": "code",
   "execution_count": 15,
   "id": "97eb3e06-ed17-45a5-a715-11d2750cab24",
   "metadata": {},
   "outputs": [
    {
     "name": "stdin",
     "output_type": "stream",
     "text": [
      "Enter your cost price 50001\n"
     ]
    },
    {
     "name": "stdout",
     "output_type": "stream",
     "text": [
      "Road Tax =  5000.1\n"
     ]
    }
   ],
   "source": [
    "\"Q2\"\n",
    "cost_price = float(input(\"Enter your cost price\"))\n",
    "if cost_price >= 100000:\n",
    "    road_tax = cost_price * 0.15\n",
    "elif 50000 <= cost_price <= 100000:\n",
    "    road_tax = cost_price * 0.10\n",
    "elif cost_price <= 50000:\n",
    "    road_tax = cost_price * 0.05\n",
    "print(\"Road Tax = \" , road_tax)"
   ]
  },
  {
   "cell_type": "code",
   "execution_count": 26,
   "id": "fa323a93-2914-4538-849b-483c0fd4183d",
   "metadata": {},
   "outputs": [
    {
     "name": "stdin",
     "output_type": "stream",
     "text": [
      "Enter city agra\n"
     ]
    },
    {
     "name": "stdout",
     "output_type": "stream",
     "text": [
      "Monuments in agra :\n",
      "-  T\n",
      "-  a\n",
      "-  j\n",
      "-   \n",
      "-  m\n",
      "-  a\n",
      "-  h\n",
      "-  a\n",
      "-  l\n"
     ]
    }
   ],
   "source": [
    "\"Q3\"\n",
    "monument = {\"Delhi\" : \"Red Fort\" , \"agra\" : \"Taj mahal\" , \"Jaipur\" : \"Jal Mahal\"}\n",
    "city = str(input(\"Enter city\"))\n",
    "if city in monument:\n",
    "    print(\"Monuments in\", city, \":\")\n",
    "    for monument in monument[city]:\n",
    "        print(\"- \", monument)\n",
    "else:\n",
    "    print(\"Sorry, no information available for\", city)\n"
   ]
  },
  {
   "cell_type": "code",
   "execution_count": 28,
   "id": "fb201103-ecc6-49e3-9f81-5659522c3590",
   "metadata": {},
   "outputs": [
    {
     "name": "stdin",
     "output_type": "stream",
     "text": [
      "Enter a number:  5\n"
     ]
    },
    {
     "name": "stdout",
     "output_type": "stream",
     "text": [
      "The number is not less than 10 or not divisible by 3\n"
     ]
    }
   ],
   "source": [
    "\"Q4\"\n",
    "num = int(input(\"Enter a number: \"))\n",
    "\n",
    "if num < 10 and num % 3 == 0:\n",
    "    count = 0\n",
    "    while num >= 3:\n",
    "        num = num / 3\n",
    "        count += 1\n",
    "    print(\"The number can be divided by 3\", count, \"times\")\n",
    "else:\n",
    "    print(\"The number is not less than 10 or not divisible by 3\")\n"
   ]
  },
  {
   "cell_type": "code",
   "execution_count": 29,
   "id": "7e0b8626-7a9a-4152-a6e2-bc18f4c3b920",
   "metadata": {},
   "outputs": [
    {
     "data": {
      "text/plain": [
       "'ANS5\\nA while loop is a type of loop in Python that is used to execute a block of code repeatedly as long as a certain condition is true. While loops are useful when you want to perform a task multiple times until a specific condition is met.\\n\\nThe condition that controls the loop is typically tested at the beginning of each iteration of the loop. If the condition is true, the loop body is executed, and then the condition is tested again. This process continues until the condition is false, at which point the loop exits and the program continues executing the code that comes after the loop.\\n\\nHere are some scenarios where a while loop might be useful:\\n\\nWhen you want to repeat a task until a certain condition is met, such as searching through a list of data until a particular item is found.\\n\\nWhen you want to execute a block of code as long as a certain condition is true, such as reading input from a user until they enter a valid response.\\n\\nWhen you want to implement a game loop, where the game continues to run as long as the player has not lost or exited the game.'"
      ]
     },
     "execution_count": 29,
     "metadata": {},
     "output_type": "execute_result"
    }
   ],
   "source": [
    "\"\"\"ANS5\n",
    "A while loop is a type of loop in Python that is used to execute a block of code repeatedly as long as a certain condition is true. While loops are useful when you want to perform a task multiple times until a specific condition is met.\n",
    "\n",
    "The condition that controls the loop is typically tested at the beginning of each iteration of the loop. If the condition is true, the loop body is executed, and then the condition is tested again. This process continues until the condition is false, at which point the loop exits and the program continues executing the code that comes after the loop.\n",
    "\n",
    "Here are some scenarios where a while loop might be useful:\n",
    "\n",
    "When you want to repeat a task until a certain condition is met, such as searching through a list of data until a particular item is found.\n",
    "\n",
    "When you want to execute a block of code as long as a certain condition is true, such as reading input from a user until they enter a valid response.\n",
    "\n",
    "When you want to implement a game loop, where the game continues to run as long as the player has not lost or exited the game.\"\"\""
   ]
  },
  {
   "cell_type": "code",
   "execution_count": 30,
   "id": "f5d0110b-da26-4fc5-8118-c509d94bd022",
   "metadata": {},
   "outputs": [
    {
     "name": "stdout",
     "output_type": "stream",
     "text": [
      "10\n",
      "9\n",
      "8\n",
      "7\n",
      "6\n",
      "5\n",
      "4\n",
      "3\n",
      "2\n",
      "1\n"
     ]
    }
   ],
   "source": [
    "\"ANS7\"\n",
    "num = 10\n",
    "while num >= 1:\n",
    "    print(num)\n",
    "    num = num -1"
   ]
  },
  {
   "cell_type": "code",
   "execution_count": null,
   "id": "0ade4a98-6448-41f6-972f-cf4b2bd19e30",
   "metadata": {},
   "outputs": [],
   "source": []
  }
 ],
 "metadata": {
  "kernelspec": {
   "display_name": "Python 3 (ipykernel)",
   "language": "python",
   "name": "python3"
  },
  "language_info": {
   "codemirror_mode": {
    "name": "ipython",
    "version": 3
   },
   "file_extension": ".py",
   "mimetype": "text/x-python",
   "name": "python",
   "nbconvert_exporter": "python",
   "pygments_lexer": "ipython3",
   "version": "3.10.8"
  }
 },
 "nbformat": 4,
 "nbformat_minor": 5
}
