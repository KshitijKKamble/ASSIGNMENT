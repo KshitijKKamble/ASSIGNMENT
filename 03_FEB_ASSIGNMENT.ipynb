{
 "cells": [
  {
   "cell_type": "code",
   "execution_count": 4,
   "id": "210dd2ef-0877-461c-80d1-f143b783b54b",
   "metadata": {},
   "outputs": [],
   "source": [
    "\"\"\"ANS1 In Python, the keyword used to create a function is \"def\".\"\"\"\n",
    "def odd():\n",
    "    odd_num = []\n",
    "    for i in range(0,26):\n",
    "        if i % 2 !=  0:\n",
    "            odd_num.append(i)\n",
    "    return odd_num\n",
    "\n"
   ]
  },
  {
   "cell_type": "code",
   "execution_count": 5,
   "id": "d3fc9ab8-d364-4250-8ca6-a10b04cba21c",
   "metadata": {},
   "outputs": [
    {
     "data": {
      "text/plain": [
       "[1, 3, 5, 7, 9, 11, 13, 15, 17, 19, 21, 23, 25]"
      ]
     },
     "execution_count": 5,
     "metadata": {},
     "output_type": "execute_result"
    }
   ],
   "source": [
    "odd()"
   ]
  },
  {
   "cell_type": "code",
   "execution_count": 8,
   "id": "993573a8-d2e8-4620-b9db-339ffc9b4e8a",
   "metadata": {},
   "outputs": [
    {
     "data": {
      "text/plain": [
       "'ANS2\\nThe terms *args and **kwargs are used in Python functions to allow for a varying number of arguments to be passed in when the function is called.\\n\\n*args is used to pass a variable number of positional arguments to a function. This means that the number of arguments can vary, and the function will be able to handle all of them. When *args is used in a function definition, it allows the function to accept an arbitrary number of arguments, which will be passed in as a tuple.\\n\\n**kwargs is used to pass a variable number of keyword arguments to a function. This means that the number of arguments can vary, and the function will be able to handle all of them. When **kwargs is used in a function definition, it allows the function to accept an arbitrary number of keyword arguments, which will be passed in as a dictionary.\\n\\n\\ndef sum_of_numbers(*args):\\n    total = 0\\n    for num in args:\\n        total += num\\n    return total\\ndef print_dict(**kwargs):\\n    for key, value in kwargs.items():\\n        print(f\"{key}: {value}\")\\n\\n\\n\\n'"
      ]
     },
     "execution_count": 8,
     "metadata": {},
     "output_type": "execute_result"
    }
   ],
   "source": [
    "\"\"\"ANS2\n",
    "The terms *args and **kwargs are used in Python functions to allow for a varying number of arguments to be passed in when the function is called.\n",
    "\n",
    "*args is used to pass a variable number of positional arguments to a function. This means that the number of arguments can vary, and the function will be able to handle all of them. When *args is used in a function definition, it allows the function to accept an arbitrary number of arguments, which will be passed in as a tuple.\n",
    "\n",
    "**kwargs is used to pass a variable number of keyword arguments to a function. This means that the number of arguments can vary, and the function will be able to handle all of them. When **kwargs is used in a function definition, it allows the function to accept an arbitrary number of keyword arguments, which will be passed in as a dictionary.\n",
    "\n",
    "\n",
    "def sum_of_numbers(*args):\n",
    "    total = 0\n",
    "    for num in args:\n",
    "        total += num\n",
    "    return total\n",
    "def print_dict(**kwargs):\n",
    "    for key, value in kwargs.items():\n",
    "        print(f\"{key}: {value}\")\n",
    "\n",
    "\n",
    "\n",
    "\"\"\""
   ]
  },
  {
   "cell_type": "code",
   "execution_count": 9,
   "id": "9ab77f39-162f-4ff5-9094-b076985928d8",
   "metadata": {},
   "outputs": [
    {
     "data": {
      "text/plain": [
       "'ANS3\\nWhat is an iterator in Python? Name the method used to initialize the iterator object and the method used for iteration. Use these methods to print the first five elements of the given list [2, 4, 6, 8, 10, 12, 14, 16, 18, 20].\\n\\nAn iterator in Python is an object that allows for iteration over a collection of items. Iterators provide a way to loop over a collection of data without having to know the specific implementation of the collection.\\n\\nIn Python, we can create an iterator object using the iter() method, which takes a collection as an argument and returns an iterator object. We can then iterate over the collection using the next() method, which returns the next item in the collection.\\n\\nHere is an example of how to use an iterator to print the first five elements of the given list:\\nmy_list = [2, 4, 6, 8, 10, 12, 14, 16, 18, 20]\\n\\n# create an iterator object using iter()\\nmy_iter = iter(my_list)\\n\\n# iterate over the first five elements using next()\\nfor i in range(5):\\n    print(next(my_iter))\\n'"
      ]
     },
     "execution_count": 9,
     "metadata": {},
     "output_type": "execute_result"
    }
   ],
   "source": [
    "\"\"\"ANS3\n",
    "What is an iterator in Python? Name the method used to initialize the iterator object and the method used for iteration. Use these methods to print the first five elements of the given list [2, 4, 6, 8, 10, 12, 14, 16, 18, 20].\n",
    "\n",
    "An iterator in Python is an object that allows for iteration over a collection of items. Iterators provide a way to loop over a collection of data without having to know the specific implementation of the collection.\n",
    "\n",
    "In Python, we can create an iterator object using the iter() method, which takes a collection as an argument and returns an iterator object. We can then iterate over the collection using the next() method, which returns the next item in the collection.\n",
    "\n",
    "Here is an example of how to use an iterator to print the first five elements of the given list:\n",
    "my_list = [2, 4, 6, 8, 10, 12, 14, 16, 18, 20]\n",
    "\n",
    "# create an iterator object using iter()\n",
    "my_iter = iter(my_list)\n",
    "\n",
    "# iterate over the first five elements using next()\n",
    "for i in range(5):\n",
    "    print(next(my_iter))\n",
    "\"\"\""
   ]
  },
  {
   "cell_type": "code",
   "execution_count": 10,
   "id": "5bc55af3-22c7-491a-b9b7-b7433f5dc579",
   "metadata": {},
   "outputs": [
    {
     "data": {
      "text/plain": [
       "\"ANS 5What is a generator function in Python? Why is the yield keyword used? Give an example of a generator function.\\n\\nA generator function in Python is a special type of function that uses the yield keyword to return a generator object, which allows for iteration over a collection of items.\\n\\nUnlike a regular function, which returns a value and then exits, a generator function can be paused and resumed at any point during its execution, allowing for a more efficient use of memory and processing power.\\n\\nThe yield keyword is used to return a value from the generator function, while also pausing the function's execution. The generator function can then be resumed from the same point on the next iteration.\\n\\nHere is an example of a generator function in Python that generates the first 10 squares of numbers:\\ndef square_numbers(n):\\n    for i in range(1, n+1):\\n        yield i**2\\n\""
      ]
     },
     "execution_count": 10,
     "metadata": {},
     "output_type": "execute_result"
    }
   ],
   "source": [
    "\"\"\"ANS 5What is a generator function in Python? Why is the yield keyword used? Give an example of a generator function.\n",
    "\n",
    "A generator function in Python is a special type of function that uses the yield keyword to return a generator object, which allows for iteration over a collection of items.\n",
    "\n",
    "Unlike a regular function, which returns a value and then exits, a generator function can be paused and resumed at any point during its execution, allowing for a more efficient use of memory and processing power.\n",
    "\n",
    "The yield keyword is used to return a value from the generator function, while also pausing the function's execution. The generator function can then be resumed from the same point on the next iteration.\n",
    "\n",
    "Here is an example of a generator function in Python that generates the first 10 squares of numbers:\n",
    "def square_numbers(n):\n",
    "    for i in range(1, n+1):\n",
    "        yield i**2\n",
    "\"\"\""
   ]
  },
  {
   "cell_type": "code",
   "execution_count": 11,
   "id": "b96bffcd-6c22-41d5-a47e-71de79779d8f",
   "metadata": {},
   "outputs": [
    {
     "data": {
      "text/plain": [
       "'ANS6\\nQ5. Create a generator function for prime numbers less than 1000. Use the next() method to print the first 20 prime numbers.\\n\\nHere is an example of a generator function in Python that generates the prime numbers less than 1000:\\ndef prime_numbers():\\n    num = 2\\n    while True:\\n        if all(num % i != 0 for i in range(2, int(num**0.5)+1)):\\n            yield num\\n        num += 1\\n'"
      ]
     },
     "execution_count": 11,
     "metadata": {},
     "output_type": "execute_result"
    }
   ],
   "source": [
    "\"\"\"ANS6\n",
    "Q5. Create a generator function for prime numbers less than 1000. Use the next() method to print the first 20 prime numbers.\n",
    "\n",
    "Here is an example of a generator function in Python that generates the prime numbers less than 1000:\n",
    "def prime_numbers():\n",
    "    num = 2\n",
    "    while True:\n",
    "        if all(num % i != 0 for i in range(2, int(num**0.5)+1)):\n",
    "            yield num\n",
    "        num += 1\n",
    "\"\"\""
   ]
  },
  {
   "cell_type": "code",
   "execution_count": 12,
   "id": "c0cb4bdb-22a1-499b-b7c2-58e8911e9849",
   "metadata": {},
   "outputs": [
    {
     "name": "stdout",
     "output_type": "stream",
     "text": [
      "0\n",
      "1\n",
      "1\n",
      "2\n",
      "3\n",
      "5\n",
      "8\n",
      "13\n",
      "21\n",
      "34\n",
      "55\n"
     ]
    }
   ],
   "source": [
    "\"ANS7\"\n",
    "a , b = 0 ,1 \n",
    "count = 0\n",
    "while count<=10:\n",
    "    print(a)\n",
    "    c = a+ b\n",
    "    a=b\n",
    "    b=c\n",
    "    count = count +1"
   ]
  },
  {
   "cell_type": "code",
   "execution_count": null,
   "id": "f8f81d79-bf45-4849-8ae1-cf27a8130aab",
   "metadata": {},
   "outputs": [],
   "source": [
    "\"\"\"ANS8\"\"\"\n"
   ]
  }
 ],
 "metadata": {
  "kernelspec": {
   "display_name": "Python 3 (ipykernel)",
   "language": "python",
   "name": "python3"
  },
  "language_info": {
   "codemirror_mode": {
    "name": "ipython",
    "version": 3
   },
   "file_extension": ".py",
   "mimetype": "text/x-python",
   "name": "python",
   "nbconvert_exporter": "python",
   "pygments_lexer": "ipython3",
   "version": "3.10.8"
  }
 },
 "nbformat": 4,
 "nbformat_minor": 5
}
