{
 "cells": [
  {
   "cell_type": "code",
   "execution_count": 1,
   "id": "b2875f39-f0b2-4e42-9cc5-97a5c7683305",
   "metadata": {},
   "outputs": [
    {
     "data": {
      "text/plain": [
       "'Q1\\nIn Object-Oriented Programming (OOP), a class is a blueprint for creating objects (instances) which defines the attributes and behaviors (methods) that the objects will have. An object is an instance of a class that can store data and perform certain actions based on the attributes and methods defined in the class.\\n\\nExample: Suppose we want to create a class named Person which will have attributes like name, age, gender, and behaviors (methods) like speak(), eat(), and sleep(). We can create objects of this class such as person1, person2, etc., and each object will have its own set of attributes and can perform the defined behaviors.\\n\\n\\n'"
      ]
     },
     "execution_count": 1,
     "metadata": {},
     "output_type": "execute_result"
    }
   ],
   "source": [
    "\"\"\"Q1\n",
    "In Object-Oriented Programming (OOP), a class is a blueprint for creating objects (instances) which defines the attributes and behaviors (methods) that the objects will have. An object is an instance of a class that can store data and perform certain actions based on the attributes and methods defined in the class.\n",
    "\n",
    "Example: Suppose we want to create a class named Person which will have attributes like name, age, gender, and behaviors (methods) like speak(), eat(), and sleep(). We can create objects of this class such as person1, person2, etc., and each object will have its own set of attributes and can perform the defined behaviors.\n",
    "\n",
    "\n",
    "\"\"\"\n"
   ]
  },
  {
   "cell_type": "code",
   "execution_count": 2,
   "id": "a62187a4-af9f-4d50-9df6-0f3d785e421a",
   "metadata": {},
   "outputs": [
    {
     "data": {
      "text/plain": [
       "'Q2 \\nAbstraction: Hiding the implementation details and showing only the necessary features to the users.\\nEncapsulation: Wrapping data and methods together into a single unit (class) and controlling access to them.\\nInheritance: Creating new classes by inheriting the attributes and methods of the existing classes.\\nPolymorphism: Ability of objects to take on many forms or have multiple behaviors based on the context in which they are used.\\n'"
      ]
     },
     "execution_count": 2,
     "metadata": {},
     "output_type": "execute_result"
    }
   ],
   "source": [
    "\"\"\"Q2 \n",
    "Abstraction: Hiding the implementation details and showing only the necessary features to the users.\n",
    "Encapsulation: Wrapping data and methods together into a single unit (class) and controlling access to them.\n",
    "Inheritance: Creating new classes by inheriting the attributes and methods of the existing classes.\n",
    "Polymorphism: Ability of objects to take on many forms or have multiple behaviors based on the context in which they are used.\n",
    "\"\"\""
   ]
  },
  {
   "cell_type": "code",
   "execution_count": 3,
   "id": "f609d68e-1b44-4e72-a6d3-abe442d16a5a",
   "metadata": {},
   "outputs": [
    {
     "data": {
      "text/plain": [
       "'ANS3\\n The __init__() function is used in Python classes to initialize the attributes of an object when it is created. It is a special method (also called a constructor) that is automatically called when an object is created. It takes the self parameter which refers to the object being created and sets its attributes using the arguments passed to the method.'"
      ]
     },
     "execution_count": 3,
     "metadata": {},
     "output_type": "execute_result"
    }
   ],
   "source": [
    "\"\"\"ANS3\n",
    " The __init__() function is used in Python classes to initialize the attributes of an object when it is created. It is a special method (also called a constructor) that is automatically called when an object is created. It takes the self parameter which refers to the object being created and sets its attributes using the arguments passed to the method.\"\"\""
   ]
  },
  {
   "cell_type": "code",
   "execution_count": 4,
   "id": "0b3b5209-b68d-4ddf-9f6f-d57b711580c0",
   "metadata": {},
   "outputs": [
    {
     "data": {
      "text/plain": [
       "\"ANS4\\nIn OOPs, self is used to refer to the object that is being created or acted upon. It is used as the first parameter in class methods to reference the object's own attributes and methods. When an object calls a method of its class, the self parameter automatically passes a reference to the object its\\n\""
      ]
     },
     "execution_count": 4,
     "metadata": {},
     "output_type": "execute_result"
    }
   ],
   "source": [
    "\"\"\"ANS4\n",
    "In OOPs, self is used to refer to the object that is being created or acted upon. It is used as the first parameter in class methods to reference the object's own attributes and methods. When an object calls a method of its class, the self parameter automatically passes a reference to the object its\n",
    "\"\"\""
   ]
  },
  {
   "cell_type": "code",
   "execution_count": 5,
   "id": "8bd1bc41-0e1a-4f9f-bb7e-0bdb2ecefa34",
   "metadata": {},
   "outputs": [
    {
     "data": {
      "text/plain": [
       "'ANS5\\n Inheritance is a mechanism in OOPs where a new class (derived class) is created by inheriting the attributes and methods of an existing class (base or parent class). The derived class can then add its own attributes and methods or modify the inherited ones. The types of inheritance are:\\n\\nSingle inheritance: A derived class inherits from a single base class.\\n'"
      ]
     },
     "execution_count": 5,
     "metadata": {},
     "output_type": "execute_result"
    }
   ],
   "source": [
    "\"\"\"ANS5\n",
    " Inheritance is a mechanism in OOPs where a new class (derived class) is created by inheriting the attributes and methods of an existing class (base or parent class). The derived class can then add its own attributes and methods or modify the inherited ones. The types of inheritance are:\n",
    "\n",
    "Single inheritance: A derived class inherits from a single base class.\n",
    "\"\"\""
   ]
  },
  {
   "cell_type": "code",
   "execution_count": null,
   "id": "801037a5-6104-45a0-bdf5-c90e4ddfa333",
   "metadata": {},
   "outputs": [],
   "source": []
  }
 ],
 "metadata": {
  "kernelspec": {
   "display_name": "Python 3 (ipykernel)",
   "language": "python",
   "name": "python3"
  },
  "language_info": {
   "codemirror_mode": {
    "name": "ipython",
    "version": 3
   },
   "file_extension": ".py",
   "mimetype": "text/x-python",
   "name": "python",
   "nbconvert_exporter": "python",
   "pygments_lexer": "ipython3",
   "version": "3.10.8"
  }
 },
 "nbformat": 4,
 "nbformat_minor": 5
}
