{
 "cells": [
  {
   "cell_type": "code",
   "execution_count": 9,
   "id": "314c33fc-b744-40e4-9bda-d51fa4f41780",
   "metadata": {},
   "outputs": [],
   "source": [
    "def product_of_numbers(lst):\n",
    "    \"\"\"\n",
    "    Returns the product of all the numbers after creating a flat list from the given list.\n",
    "    \"\"\"\n",
    "    # Flatten the list\n",
    "    flat_lst = []\n",
    "    for item in lst:\n",
    "        if isinstance(item, (list, tuple, set)):\n",
    "            flat_lst.extend([i for i in item if isinstance(i, (int, float))])\n",
    "        elif isinstance(item, dict):\n",
    "            for k, v in item.items():\n",
    "                if isinstance(v, (int, float)):\n",
    "                    flat_lst.append(v)\n",
    "                elif isinstance(v, (list, tuple, set)):\n",
    "                    flat_lst.extend([i for i in v if isinstance(i, (int, float))])\n",
    "                elif isinstance(v, dict):\n",
    "                    for k1, v1 in v.items():\n",
    "                        if isinstance(v1, (int, float)):\n",
    "                            flat_lst.append(v1)\n",
    "        elif isinstance(item, (int, float)):\n",
    "            flat_lst.append(item)\n",
    "\n",
    "    # Calculate the product\n",
    "    product = 1\n",
    "    for num in flat_lst:\n",
    "        product *= num\n",
    "\n",
    "    return product\n",
    "\n",
    "\n"
   ]
  },
  {
   "cell_type": "code",
   "execution_count": 10,
   "id": "2f8da46e-da79-4c71-a654-d034609d9656",
   "metadata": {},
   "outputs": [
    {
     "name": "stdout",
     "output_type": "stream",
     "text": [
      "0\n"
     ]
    }
   ],
   "source": [
    "list1 = [1,2,3,4, [44,55,66, True], False, (34,56,78,89,34), {1,2,3,3,2,1}, {1:34, \"key2\": [55, 67, 78, 89], 4: (45, \n",
    "22, 61, 34)}, [56, 'data science'], 'Machine Learning']\n",
    "\n",
    "print(product_of_numbers(list1))\n"
   ]
  },
  {
   "cell_type": "code",
   "execution_count": null,
   "id": "1c5fb76f-5cd7-4ce2-9c4a-4d405cb1deca",
   "metadata": {},
   "outputs": [],
   "source": []
  }
 ],
 "metadata": {
  "kernelspec": {
   "display_name": "Python 3 (ipykernel)",
   "language": "python",
   "name": "python3"
  },
  "language_info": {
   "codemirror_mode": {
    "name": "ipython",
    "version": 3
   },
   "file_extension": ".py",
   "mimetype": "text/x-python",
   "name": "python",
   "nbconvert_exporter": "python",
   "pygments_lexer": "ipython3",
   "version": "3.10.8"
  }
 },
 "nbformat": 4,
 "nbformat_minor": 5
}
