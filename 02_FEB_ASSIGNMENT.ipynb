{
 "cells": [
  {
   "cell_type": "code",
   "execution_count": 1,
   "id": "a0f55551-e6ad-460f-9994-4e20d34f63a8",
   "metadata": {},
   "outputs": [
    {
     "data": {
      "text/plain": [
       "'The for loop is used when we already know the number of iterations, which means when we know how many times a statement has to be executed. That is why we have to specify the ending point in the for loop initialization.\\n\\nWhen we need to end the loop on a condition other than the number of times, we use a while loop. '"
      ]
     },
     "execution_count": 1,
     "metadata": {},
     "output_type": "execute_result"
    }
   ],
   "source": [
    "\"ANS1\"\n",
    "\"\"\"The for loop is used when we already know the number of iterations, which means when we know how many times a statement has to be executed. That is why we have to specify the ending point in the for loop initialization.\n",
    "\n",
    "When we need to end the loop on a condition other than the number of times, we use a while loop. \"\"\""
   ]
  },
  {
   "cell_type": "code",
   "execution_count": 5,
   "id": "bf8e2e95-1c4c-4a04-b89b-8394a497999a",
   "metadata": {},
   "outputs": [
    {
     "name": "stdout",
     "output_type": "stream",
     "text": [
      "0\n",
      "1\n",
      "3\n",
      "6\n",
      "10\n",
      "15\n",
      "21\n",
      "28\n",
      "36\n",
      "45\n",
      "55\n"
     ]
    }
   ],
   "source": [
    "\"\"\"FOR LOOP\"\"\"\n",
    "sum = 0\n",
    "for i in range(0,11):\n",
    "    sum = sum + i\n",
    "    print(sum)"
   ]
  },
  {
   "cell_type": "code",
   "execution_count": 1,
   "id": "53571ad7-6b0f-4a81-9be7-6de05767eea1",
   "metadata": {},
   "outputs": [
    {
     "name": "stdout",
     "output_type": "stream",
     "text": [
      "Product of first 10 natural numbers using for loop:  3628800\n"
     ]
    }
   ],
   "source": [
    "product = 1\n",
    "for i in range(1, 11):\n",
    "    product = product * i\n",
    "print(\"Product of first 10 natural numbers using for loop: \", product)"
   ]
  },
  {
   "cell_type": "code",
   "execution_count": 10,
   "id": "c203a91a-a7e9-446e-92f1-4f5a311a1673",
   "metadata": {},
   "outputs": [
    {
     "name": "stdout",
     "output_type": "stream",
     "text": [
      "Sum of first 10 natural numbers using while loop:  55\n",
      "Product of first 10 natural numbers using while loop:  3628800\n"
     ]
    }
   ],
   "source": [
    "sum = 0\n",
    "i = 1\n",
    "while i <= 10:\n",
    "    sum += i\n",
    "    i += 1\n",
    "print(\"Sum of first 10 natural numbers using while loop: \", sum)\n",
    "\n",
    "# Calculate the product of first 10 natural numbers using while loop\n",
    "product = 1\n",
    "i = 1\n",
    "while i <= 10:\n",
    "    product *= i\n",
    "    i += 1\n",
    "print(\"Product of first 10 natural numbers using while loop: \", product)"
   ]
  },
  {
   "cell_type": "code",
   "execution_count": 6,
   "id": "75366717-dd2f-46fd-9610-511291b2b3af",
   "metadata": {},
   "outputs": [
    {
     "name": "stdin",
     "output_type": "stream",
     "text": [
      "Enter the number of units consumed 310\n"
     ]
    },
    {
     "name": "stdout",
     "output_type": "stream",
     "text": [
      "Bill is  2250.0\n"
     ]
    }
   ],
   "source": [
    "\"Q3\"\n",
    "bill = 0\n",
    "units = int(input(\"Enter the number of units consumed\"))\n",
    "\n",
    "if units <=100:\n",
    "    bill = units * 4.5\n",
    "elif units <=200:\n",
    "    bill = 100 * 4.5 + (units-100)*6\n",
    "elif units <= 200:\n",
    "    bill = 100 * 4.5 + 100 * 6 + (units-200)*10\n",
    "else:\n",
    "    bill = 100 * 4.5 + 100 * 6 + 100 * 10 + (units - 300) * 20\n",
    "\n",
    "print(\"Bill is \" , bill)\n"
   ]
  },
  {
   "cell_type": "code",
   "execution_count": 12,
   "id": "c89aad44-8180-402d-932e-3c15c40dc85f",
   "metadata": {},
   "outputs": [
    {
     "name": "stdout",
     "output_type": "stream",
     "text": [
      "[2, 4, 5, 6, 8, 10, 12, 14, 15, 16, 18, 20, 22, 24, 25, 26, 28, 30, 32, 34, 35, 36, 38, 40, 42, 44, 45, 46, 48, 50, 52, 54, 55, 56, 58, 60, 62, 64, 65, 66, 68, 70, 72, 74, 75, 76, 78, 80, 82, 84, 85, 86, 88, 90, 92, 94, 95, 96, 98, 100]\n"
     ]
    }
   ],
   "source": [
    "\"Q4\"\n",
    "cubes_list = []\n",
    "for i in range(1,101):\n",
    "    cube = i**3\n",
    "    if cube % 4 == 0 or cube % 5 == 0:\n",
    "        cubes_list.append(i)\n",
    "print(cubes_list)\n",
    "    "
   ]
  },
  {
   "cell_type": "code",
   "execution_count": null,
   "id": "ecfef295-3fdc-4150-b71f-92ef077a7f43",
   "metadata": {},
   "outputs": [],
   "source": [
    "cubes_list = []\n",
    "num = 1\n",
    "\n",
    "while num <= 100:\n",
    "    cube = num ** 3\n",
    "    if cube % 4 == 0 or cube % 5 == 0:\n",
    "        cubes_list.append(num)\n",
    "    num += 1\n",
    "\n",
    "print(cubes_list)"
   ]
  },
  {
   "cell_type": "code",
   "execution_count": null,
   "id": "bb6ffa60-ffe0-4c4a-8f86-2e6a535df087",
   "metadata": {},
   "outputs": [],
   "source": [
    "cubes_list = []\n",
    "num = 1\n",
    "\n",
    "while num <= 100:\n",
    "    cube = num ** 3\n",
    "    if cube % 4 == 0 or cube % 5 == 0:\n",
    "        cubes_list.append(num)\n",
    "    num += 1\n",
    "\n",
    "print(cubes_list)"
   ]
  },
  {
   "cell_type": "code",
   "execution_count": 1,
   "id": "2c7e0cb3-7bf3-4712-b313-1054896a7937",
   "metadata": {},
   "outputs": [
    {
     "name": "stdout",
     "output_type": "stream",
     "text": [
      "[2, 4, 5, 6, 8, 10, 12, 14, 15, 16, 18, 20, 22, 24, 25, 26, 28, 30, 32, 34, 35, 36, 38, 40, 42, 44, 45, 46, 48, 50, 52, 54, 55, 56, 58, 60, 62, 64, 65, 66, 68, 70, 72, 74, 75, 76, 78, 80, 82, 84, 85, 86, 88, 90, 92, 94, 95, 96, 98, 100]\n"
     ]
    }
   ],
   "source": [
    "cubes_list = []\n",
    "i = 1\n",
    "while i <=100:\n",
    "    cube = i ** 3\n",
    "    if cube % 4 == 0 or cube % 5 ==0:\n",
    "        cubes_list.append(i)\n",
    "    i = i + 1\n",
    "print(cubes_list)"
   ]
  },
  {
   "cell_type": "code",
   "execution_count": 1,
   "id": "dd3af111-ae3f-4f6a-a369-c596417d3a67",
   "metadata": {},
   "outputs": [
    {
     "name": "stdout",
     "output_type": "stream",
     "text": [
      "The number of vowels in the string is: 12\n"
     ]
    }
   ],
   "source": [
    "\"Q5\"\n",
    "string = \"I want to become a data scientist\"\n",
    "vowels = 'aeiouAEIOU'\n",
    "count = 0\n",
    "\n",
    "for char in string:\n",
    "    if char in vowels:\n",
    "        count += 1\n",
    "\n",
    "print(\"The number of vowels in the string is:\", count)\n",
    "\n",
    "    "
   ]
  },
  {
   "cell_type": "code",
   "execution_count": null,
   "id": "68cd7bb4-ddc9-4405-9ed3-57cca53bab1a",
   "metadata": {},
   "outputs": [],
   "source": []
  }
 ],
 "metadata": {
  "kernelspec": {
   "display_name": "Python 3 (ipykernel)",
   "language": "python",
   "name": "python3"
  },
  "language_info": {
   "codemirror_mode": {
    "name": "ipython",
    "version": 3
   },
   "file_extension": ".py",
   "mimetype": "text/x-python",
   "name": "python",
   "nbconvert_exporter": "python",
   "pygments_lexer": "ipython3",
   "version": "3.10.8"
  }
 },
 "nbformat": 4,
 "nbformat_minor": 5
}
